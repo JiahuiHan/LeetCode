{
 "cells": [
  {
   "cell_type": "markdown",
   "metadata": {},
   "source": [
    "# LinkedList"
   ]
  },
  {
   "cell_type": "markdown",
   "metadata": {},
   "source": [
    "Definition:\n",
    "Singly linked list is a recursively defined structure that is either empty or a reference to a node object that contains a value (or some values) and a reference to another singly linked list."
   ]
  },
  {
   "cell_type": "code",
   "execution_count": 8,
   "metadata": {},
   "outputs": [
    {
     "name": "stdout",
     "output_type": "stream",
     "text": [
      "0\n",
      "a\n"
     ]
    }
   ],
   "source": [
    "class ListNode(object):\n",
    "    def __init__(self,value):\n",
    "        self.next = None \n",
    "        self.val = value\n",
    "\n",
    "node1 = ListNode(0)\n",
    "node1.next = ListNode('a')\n",
    "\n",
    "print(node1.val)\n",
    "print(node1.next.val)"
   ]
  },
  {
   "cell_type": "markdown",
   "metadata": {},
   "source": [
    "## Traverse"
   ]
  },
  {
   "cell_type": "markdown",
   "metadata": {},
   "source": [
    "traverse all the nodes inside a singly linked list and print their values accordingly to the screen."
   ]
  },
  {
   "cell_type": "code",
   "execution_count": 9,
   "metadata": {},
   "outputs": [
    {
     "name": "stdout",
     "output_type": "stream",
     "text": [
      "0\n",
      "a\n"
     ]
    }
   ],
   "source": [
    "def print_all_node(head):\n",
    "    curr = head\n",
    "    while curr:\n",
    "        print(curr.val)\n",
    "        curr = curr.next\n",
    "print_all_node(node1)"
   ]
  },
  {
   "cell_type": "markdown",
   "metadata": {},
   "source": [
    "## Search"
   ]
  },
  {
   "cell_type": "markdown",
   "metadata": {},
   "source": [
    "* Search by index\n",
    "\n",
    "Given a singly linked list and an index (assuming the index of the first list node is 0), return the node you found, otherwise return None."
   ]
  },
  {
   "cell_type": "code",
   "execution_count": 15,
   "metadata": {},
   "outputs": [
    {
     "name": "stdout",
     "output_type": "stream",
     "text": [
      "a\n"
     ]
    }
   ],
   "source": [
    "def search_by_index(head,index):\n",
    "    if not head or index < 0:\n",
    "        return None\n",
    "    for move_times in range(index):\n",
    "        head = head.next\n",
    "        if not head:\n",
    "            return None\n",
    "    return head\n",
    "\n",
    "node2 = search_by_index(node1,1)\n",
    "print(node2.val)"
   ]
  },
  {
   "cell_type": "markdown",
   "metadata": {},
   "source": [
    "* Search by value\n",
    "\n",
    "ATTN: requires the value type to support correct equality semantics"
   ]
  },
  {
   "cell_type": "code",
   "execution_count": 16,
   "metadata": {
    "collapsed": true
   },
   "outputs": [],
   "source": [
    "def search_by_value(head, value):\n",
    "    if not head or value is None:\n",
    "        return None\n",
    "    curr = head\n",
    "    while curr is not None:\n",
    "        if curr.val == value:\n",
    "            return curr\n",
    "        curr = curr.next\n",
    "    return None"
   ]
  },
  {
   "cell_type": "markdown",
   "metadata": {},
   "source": [
    "As for why equality semantics is important, consider the following:"
   ]
  },
  {
   "cell_type": "code",
   "execution_count": 17,
   "metadata": {},
   "outputs": [
    {
     "name": "stdout",
     "output_type": "stream",
     "text": [
      "False\n"
     ]
    }
   ],
   "source": [
    "n1, n2 = ListNode(1), ListNode(1)\n",
    "print(n1 == n2)"
   ]
  },
  {
   "cell_type": "markdown",
   "metadata": {},
   "source": [
    "## Add\n",
    "add to index\n",
    "\n",
    "Given a singly linked list and an index (assuming the index of the first list node is 0), add a new node to this specified position. If the position is not valid, we should do nothing."
   ]
  },
  {
   "cell_type": "code",
   "execution_count": 19,
   "metadata": {
    "collapsed": true
   },
   "outputs": [],
   "source": [
    "def add_to_index(head, index, val):\n",
    "    fake_head = ListNode(None)\n",
    "    fake_head.next = head\n",
    "    insert_place = search_by_index(fake_head, index)\n",
    "    if insert_place is None:\n",
    "        return\n",
    "    new_node = ListNode(val)\n",
    "    insert_place.next, new_node.next = new_node, insert_place.next # insert new node in linkedlist\n",
    "    return fake_head.next"
   ]
  },
  {
   "cell_type": "markdown",
   "metadata": {},
   "source": [
    "## Remove\n",
    "* remove from index\n",
    "\n",
    "Given a singly linked list and an index (assuming the index of the first list node is 0), remove the node at this specified position. If the position is not valid, we should do nothing."
   ]
  },
  {
   "cell_type": "code",
   "execution_count": 21,
   "metadata": {
    "collapsed": true
   },
   "outputs": [],
   "source": [
    "def remove_from_index(head, index):\n",
    "    fake_head = ListNode('fake node')\n",
    "    fake_head.next = head\n",
    "    remove_place = search_by_index(fake_head, index)\n",
    "    if remove_place is None or remove_place.next is None:\n",
    "        return\n",
    "    remove_node = remove_place.next\n",
    "    remove_place.next, remove_node.next = remove_node.next, None\n",
    "    return fake_head.next"
   ]
  },
  {
   "cell_type": "markdown",
   "metadata": {},
   "source": [
    "* remove all nodes with target value\n",
    "\n",
    "Given the head of a slingly linked list and a target value, remove all nodes that contain this value from it."
   ]
  },
  {
   "cell_type": "code",
   "execution_count": 22,
   "metadata": {
    "collapsed": true
   },
   "outputs": [],
   "source": [
    "def remove_all_nodes(head,target):\n",
    "    fake = ListNode(None)\n",
    "    fake.next = head\n",
    "    prev, curr = fake, head\n",
    "    while curr:\n",
    "        if curr.val == target:\n",
    "            prev.next = curr.next\n",
    "        else:\n",
    "            prev = curr\n",
    "        curr = curr.next # always update \n",
    "    return fake.next"
   ]
  },
  {
   "cell_type": "code",
   "execution_count": 23,
   "metadata": {
    "collapsed": true
   },
   "outputs": [],
   "source": [
    "def remove_all_nodes(head, target):\n",
    "    if not head:\n",
    "        return None\n",
    "    if head.val != target:\n",
    "        return remove_all_nodes(head.next, target)\n",
    "    else:\n",
    "        head.next == remove_all_nodes(head.next, target)\n",
    "        return head"
   ]
  },
  {
   "cell_type": "markdown",
   "metadata": {},
   "source": [
    "Question: merge two sorted lists"
   ]
  }
 ],
 "metadata": {
  "kernelspec": {
   "display_name": "Python 3",
   "language": "python",
   "name": "python3"
  },
  "language_info": {
   "codemirror_mode": {
    "name": "ipython",
    "version": 3
   },
   "file_extension": ".py",
   "mimetype": "text/x-python",
   "name": "python",
   "nbconvert_exporter": "python",
   "pygments_lexer": "ipython3",
   "version": "3.6.3"
  }
 },
 "nbformat": 4,
 "nbformat_minor": 2
}
