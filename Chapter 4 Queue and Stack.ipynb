{
 "cells": [
  {
   "cell_type": "markdown",
   "metadata": {},
   "source": [
    "Often times, we would like to have a collection that can help us manage some items that we put in and allow us to retrieve them later. Based on the policy of organizing those items, we can have some interesting ways to implement this collection concept."
   ]
  },
  {
   "cell_type": "markdown",
   "metadata": {},
   "source": [
    "# Queue\n",
    "If we adopt **first-in-first-out** policy, we have a implementation called queue. Basically, you can think of this collection as a conduit such that elements are put into it from one end and taken out from another end with respect to the insertion order.\n"
   ]
  },
  {
   "cell_type": "markdown",
   "metadata": {},
   "source": [
    "* Glossary\n",
    "\n",
    "enqueue: put one element into our queue             \n",
    "dequeue: take one element out from our queue"
   ]
  },
  {
   "cell_type": "code",
   "execution_count": 1,
   "metadata": {
    "collapsed": true
   },
   "outputs": [],
   "source": [
    "class Queue(object):\n",
    "    def __init__(self):\n",
    "        self.__items = []\n",
    "    def __len__(self):\n",
    "        return len(self.__items)\n",
    "    def enqueue(self, item):\n",
    "        self._items.append(item)\n",
    "    def dequeue(self):\n",
    "        if self.empty():\n",
    "            return None\n",
    "        item = self.__items[0]\n",
    "        del self.__items[0]\n",
    "        return item\n",
    "    def empty(self):\n",
    "        return len(self.__items) == 0\n",
    "    def front(self):\n",
    "        if self.empty():\n",
    "            return None\n",
    "        return self.__items[0]"
   ]
  },
  {
   "cell_type": "markdown",
   "metadata": {},
   "source": [
    "O(n) for dequeue, O(1) "
   ]
  }
 ],
 "metadata": {
  "kernelspec": {
   "display_name": "Python 3",
   "language": "python",
   "name": "python3"
  },
  "language_info": {
   "codemirror_mode": {
    "name": "ipython",
    "version": 3
   },
   "file_extension": ".py",
   "mimetype": "text/x-python",
   "name": "python",
   "nbconvert_exporter": "python",
   "pygments_lexer": "ipython3",
   "version": "3.6.3"
  }
 },
 "nbformat": 4,
 "nbformat_minor": 2
}
